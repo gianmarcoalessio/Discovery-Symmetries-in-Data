{
 "cells": [
  {
   "cell_type": "markdown",
   "metadata": {},
   "source": [
    "Author: Gianmarco Alessio\n",
    "\n",
    "Department of Mathematics and Geosciences, University of Trieste, Italy\n",
    "\n",
    "Course: Advanced Topics in Machine Learning, Fall 2023\n",
    "\n",
    "Teacher: Prof. Fabio Anselmi\n",
    "\n",
    "# Symmetry Regularization on MNIST dataset under rotation trasformation \n",
    "\n",
    "This is the first attempt to implement a Fully Connected 1 layer neural network (`number of neurons = 728`) multiclass classification problem that is invariant to the rotation of the MNIST dataset over a certain angle (in my analysis I selected an angle of 3 degree) and to compare the results with the same network but with different regularization terms, in particular:\n",
    "\n",
    "- the *FCNN* with only the cross entropy loss. (**The CE LOSS**)\n",
    "- the *FCNN* with the cross entropy loss and the regularization term for the challenge (**The Challenge LOSS**)\n",
    "- the *FCNN* with the cross entropy loss and the Symmetry-Adapted Regularization terms (**The Symmetry LOSS**)\n",
    "\n",
    "\n",
    "#### *Challenge 2*: *Discovering **Symmetries** in Data*\n",
    "\n",
    "Advanced Topics in Machine Learning -- Fall 2023, UniTS\n",
    "\n",
    "<a target=\"_blank\" href=\"https://colab.research.google.com/github/ganselmif/adv-ml-units/blob/main/notebooks/AdvML_Challenge_2.ipynb\"><img src=\"https://colab.research.google.com/assets/colab-badge.svg\" alt=\"Open in Colab\"/></a>\n",
    "\n",
    "Generate a dataset composed by rotations of 2-dimensional vectors *w.r.t.* a finite subgroup of the rotation group (*e.g.* every 3-4 degrees). Shuffle the dataset.  \n",
    "Generate the labels according to the orbits.  \n",
    "\n",
    "Implement a *NN* with one *FC* layer and `ReLU` to classify the orbits elements according to the label.  \n",
    "\n",
    "Write a Loss that contains 3 terms:\n",
    "\n",
    "- The regularization term as explained in class using [*soft-sort*](https://github.com/google-research/fast-soft-sort) on rows and columns of the Gramian of the first layer weights; (risp: `use_reg_sort` )\n",
    "- The cross entropy entropy with orbit labels; (risp: `self.cross_entropy = nn.CrossEntropyLoss()`)\n",
    "- The norm of the commutator between the covariance matrix of the data and that of the weights, as explained in class.  (risp: `use_reg_commutator`)\n",
    "\n",
    "We are encouraged to come up with other constraints instead of *1* and especially *3*.  \n",
    "(risp: instead of *1*  come up with `symmetry_reg_loss = symm_loss(atoms, cardinality, sigma_squared=0.001)` and instead of *2* I come up with `symmetry_comm_loss = comm_loss_function(atoms,train_images)` where i found them in the paper linked below )\n",
    "\n",
    "In seeking alternatives to constraints *1* and especially *3*, I propose adopting two novel constraints derived from the research findings detailed in the referenced paper. For constraint *1*, I introduce a symmetry regularization loss, denoted as `symmetry_reg_loss`. This loss function is defined by `symm_loss(atoms, cardinality, sigma_squared=0.001)`, where it leverages the concept of symmetry in the representation space to enforce structural coherence. For the alternative to constraint *3*, I suggest the implementation of a symmetry commutator loss, `symmetry_comm_loss`. This is articulated through `comm_loss_function(atoms, train_images)`. \n",
    "The proposed constraints, inspired by methodologies detailed in the referenced paper, are designed to enhance the learning process through a focus on symmetry and communication within the model's structure. This approach, referred to as \"Symmetry-Adapted Regularization,\" aims to incorporate symmetry principles directly into the regularization process\n",
    "\n",
    "Test the invariance of the representation and plot the Gramian of the learned weights. \n",
    "We se matrix that manifest symmetries property in particular rotation invariance.\n",
    "\n"
   ]
  },
  {
   "cell_type": "code",
   "execution_count": 1,
   "metadata": {},
   "outputs": [
    {
     "name": "stderr",
     "output_type": "stream",
     "text": [
      "/Users/Giammi/5_dssc/second/atml/project/fast_soft_sort/third_party/isotonic.py:39: UserWarning: Numba could not be imported. Code will run much more slowly. To install, please run 'pip install numba'.\n",
      "  warnings.warn(\"Numba could not be imported. Code will run much more slowly.\"\n"
     ]
    }
   ],
   "source": [
    "import torch\n",
    "from torchvision import datasets, transforms\n",
    "from torchvision import utils\n",
    "from torch.utils.data import DataLoader\n",
    "import matplotlib.pyplot as plt\n",
    "import torchvision.transforms.functional as TF\n",
    "from torch import nn\n",
    "from fast_soft_sort.pytorch_ops import soft_rank\n",
    "from fast_soft_sort.pytorch_ops import soft_sort\n",
    "import torch.nn.functional as F\n",
    "import random\n",
    "import numpy as np\n",
    "# donwload the .py file\n",
    "import functions\n",
    "from functions import *"
   ]
  },
  {
   "cell_type": "code",
   "execution_count": 2,
   "metadata": {},
   "outputs": [],
   "source": [
    "train_data = datasets.MNIST(root='./data', train=True, download=True, transform=transforms.ToTensor())\n",
    "train_loader = DataLoader(train_data, batch_size=6000, shuffle=False)\n",
    "\n",
    "test_data = datasets.MNIST(root='./data', train=False, download=True, transform=transforms.ToTensor())\n",
    "test_loader = DataLoader(test_data, batch_size=1000, shuffle=False)\n",
    "\n",
    "\n",
    "for data, target in train_loader:\n",
    "    train_images = data\n",
    "    train_target = target\n",
    "for data, target in test_loader:\n",
    "    test_images = data\n",
    "    test_target = target\n",
    "\n",
    "rotated_train_images, rotated_train_labels, atoms, cardinality = rotate_images_old(train_images, train_target,angle=3)\n",
    "rotated_test_images, rotated_test_labels, _, _ = rotate_images_old(test_images, test_target,angle=3)"
   ]
  },
  {
   "cell_type": "code",
   "execution_count": 3,
   "metadata": {},
   "outputs": [],
   "source": [
    "rotated_train_dataset = torch.utils.data.TensorDataset(rotated_train_images, rotated_train_labels)\n",
    "rotated_train_loader = DataLoader(rotated_train_dataset, batch_size=6120,shuffle=True) \n",
    "rotated_test_dataset = torch.utils.data.TensorDataset(rotated_test_images, rotated_test_labels)\n",
    "rotated_test_loader = DataLoader(rotated_test_dataset, batch_size=1120,shuffle=True) \n",
    "for data, target in rotated_train_loader:\n",
    "    train_images = data\n",
    "    train_labels = target\n",
    "for data, target in rotated_test_loader:\n",
    "    test_images = data\n",
    "    test_labels = target"
   ]
  },
  {
   "cell_type": "code",
   "execution_count": 4,
   "metadata": {},
   "outputs": [],
   "source": [
    "class Net(nn.Module):\n",
    "    def __init__(self, input_size, num_classes):\n",
    "        super(Net, self).__init__()\n",
    "        self.fc = nn.Linear(input_size, num_classes)\n",
    "\n",
    "    def forward(self, x):\n",
    "        x = self.fc(x)\n",
    "        x = torch.relu(x)\n",
    "        return x"
   ]
  },
  {
   "cell_type": "code",
   "execution_count": 5,
   "metadata": {},
   "outputs": [],
   "source": [
    "class loss_function(nn.Module):\n",
    "    def __init__(self, lambda_reg=0.01, lambda_symm=0.01,lambda_comm=0.01,lambda_symm_comm=0.01):\n",
    "        super(loss_function, self).__init__()\n",
    "        self.lambda_sort = lambda_reg\n",
    "        self.lambda_symm = lambda_symm\n",
    "        self.lambda_comm = lambda_comm\n",
    "        self.lambda_symm_comm = lambda_symm_comm\n",
    "        self.cross_entropy = nn.CrossEntropyLoss()\n",
    "        self.atoms = nn.Parameter(torch.randn(120,748)) \n",
    "\n",
    "    def forward(self, prediction, labels, weights,train_images, use_reg_sort=False, use_reg_comm=False, use_symm_loss=False, use_symm_comm=False):\n",
    "\n",
    "        reg_loss = 0 \n",
    "        symmetry_reg_loss = 0 \n",
    "        ce_loss = self.cross_entropy(prediction, labels)\n",
    "\n",
    "        total_loss = ce_loss\n",
    "\n",
    "        if use_reg_sort:\n",
    "            reg_loss = reg_loss_function(weights)\n",
    "            total_loss += self.lambda_sort * reg_loss\n",
    "\n",
    "        if use_reg_comm:\n",
    "            comm_loss = comm_loss_function(weights,train_images)\n",
    "            total_loss += self.lambda_comm * comm_loss\n",
    "\n",
    "\n",
    "        if use_symm_loss:\n",
    "            symmetry_reg_loss = symm_loss(atoms, cardinality, sigma_squared=0.001)\n",
    "            total_loss += self.lambda_symm * symmetry_reg_loss\n",
    "\n",
    "        if use_symm_comm:\n",
    "            symmetry_comm_loss = comm_loss_function(atoms,train_images)\n",
    "            total_loss += self.lambda_symm_comm * symmetry_comm_loss\n",
    "        \n",
    "\n",
    "        return total_loss"
   ]
  },
  {
   "cell_type": "code",
   "execution_count": 6,
   "metadata": {},
   "outputs": [
    {
     "ename": "RuntimeError",
     "evalue": "mat1 and mat2 shapes cannot be multiplied (6120x784 and 120x10)",
     "output_type": "error",
     "traceback": [
      "\u001b[0;31m---------------------------------------------------------------------------\u001b[0m",
      "\u001b[0;31mRuntimeError\u001b[0m                              Traceback (most recent call last)",
      "Cell \u001b[0;32mIn[6], line 17\u001b[0m\n\u001b[1;32m     14\u001b[0m optimizer\u001b[38;5;241m.\u001b[39mzero_grad()\n\u001b[1;32m     16\u001b[0m \u001b[38;5;66;03m# Forward pass\u001b[39;00m\n\u001b[0;32m---> 17\u001b[0m prediction \u001b[38;5;241m=\u001b[39m \u001b[43mnet\u001b[49m\u001b[43m(\u001b[49m\u001b[43mtrain_images\u001b[49m\u001b[43m)\u001b[49m\n\u001b[1;32m     18\u001b[0m weights \u001b[38;5;241m=\u001b[39m net\u001b[38;5;241m.\u001b[39mfc\u001b[38;5;241m.\u001b[39mweight \u001b[38;5;66;03m# i pesi del layer\u001b[39;00m\n\u001b[1;32m     19\u001b[0m loss \u001b[38;5;241m=\u001b[39m loss_value(prediction, train_labels, weights,train_images, use_reg_sort\u001b[38;5;241m=\u001b[39m\u001b[38;5;28;01mFalse\u001b[39;00m, use_reg_comm\u001b[38;5;241m=\u001b[39m\u001b[38;5;28;01mFalse\u001b[39;00m, use_symm_loss\u001b[38;5;241m=\u001b[39m\u001b[38;5;28;01mFalse\u001b[39;00m, use_symm_comm\u001b[38;5;241m=\u001b[39m\u001b[38;5;28;01mFalse\u001b[39;00m)\n",
      "File \u001b[0;32m~/apps/miniconda3/envs/advance-topics-ml/lib/python3.11/site-packages/torch/nn/modules/module.py:1518\u001b[0m, in \u001b[0;36mModule._wrapped_call_impl\u001b[0;34m(self, *args, **kwargs)\u001b[0m\n\u001b[1;32m   1516\u001b[0m     \u001b[38;5;28;01mreturn\u001b[39;00m \u001b[38;5;28mself\u001b[39m\u001b[38;5;241m.\u001b[39m_compiled_call_impl(\u001b[38;5;241m*\u001b[39margs, \u001b[38;5;241m*\u001b[39m\u001b[38;5;241m*\u001b[39mkwargs)  \u001b[38;5;66;03m# type: ignore[misc]\u001b[39;00m\n\u001b[1;32m   1517\u001b[0m \u001b[38;5;28;01melse\u001b[39;00m:\n\u001b[0;32m-> 1518\u001b[0m     \u001b[38;5;28;01mreturn\u001b[39;00m \u001b[38;5;28;43mself\u001b[39;49m\u001b[38;5;241;43m.\u001b[39;49m\u001b[43m_call_impl\u001b[49m\u001b[43m(\u001b[49m\u001b[38;5;241;43m*\u001b[39;49m\u001b[43margs\u001b[49m\u001b[43m,\u001b[49m\u001b[43m \u001b[49m\u001b[38;5;241;43m*\u001b[39;49m\u001b[38;5;241;43m*\u001b[39;49m\u001b[43mkwargs\u001b[49m\u001b[43m)\u001b[49m\n",
      "File \u001b[0;32m~/apps/miniconda3/envs/advance-topics-ml/lib/python3.11/site-packages/torch/nn/modules/module.py:1527\u001b[0m, in \u001b[0;36mModule._call_impl\u001b[0;34m(self, *args, **kwargs)\u001b[0m\n\u001b[1;32m   1522\u001b[0m \u001b[38;5;66;03m# If we don't have any hooks, we want to skip the rest of the logic in\u001b[39;00m\n\u001b[1;32m   1523\u001b[0m \u001b[38;5;66;03m# this function, and just call forward.\u001b[39;00m\n\u001b[1;32m   1524\u001b[0m \u001b[38;5;28;01mif\u001b[39;00m \u001b[38;5;129;01mnot\u001b[39;00m (\u001b[38;5;28mself\u001b[39m\u001b[38;5;241m.\u001b[39m_backward_hooks \u001b[38;5;129;01mor\u001b[39;00m \u001b[38;5;28mself\u001b[39m\u001b[38;5;241m.\u001b[39m_backward_pre_hooks \u001b[38;5;129;01mor\u001b[39;00m \u001b[38;5;28mself\u001b[39m\u001b[38;5;241m.\u001b[39m_forward_hooks \u001b[38;5;129;01mor\u001b[39;00m \u001b[38;5;28mself\u001b[39m\u001b[38;5;241m.\u001b[39m_forward_pre_hooks\n\u001b[1;32m   1525\u001b[0m         \u001b[38;5;129;01mor\u001b[39;00m _global_backward_pre_hooks \u001b[38;5;129;01mor\u001b[39;00m _global_backward_hooks\n\u001b[1;32m   1526\u001b[0m         \u001b[38;5;129;01mor\u001b[39;00m _global_forward_hooks \u001b[38;5;129;01mor\u001b[39;00m _global_forward_pre_hooks):\n\u001b[0;32m-> 1527\u001b[0m     \u001b[38;5;28;01mreturn\u001b[39;00m \u001b[43mforward_call\u001b[49m\u001b[43m(\u001b[49m\u001b[38;5;241;43m*\u001b[39;49m\u001b[43margs\u001b[49m\u001b[43m,\u001b[49m\u001b[43m \u001b[49m\u001b[38;5;241;43m*\u001b[39;49m\u001b[38;5;241;43m*\u001b[39;49m\u001b[43mkwargs\u001b[49m\u001b[43m)\u001b[49m\n\u001b[1;32m   1529\u001b[0m \u001b[38;5;28;01mtry\u001b[39;00m:\n\u001b[1;32m   1530\u001b[0m     result \u001b[38;5;241m=\u001b[39m \u001b[38;5;28;01mNone\u001b[39;00m\n",
      "Cell \u001b[0;32mIn[4], line 7\u001b[0m, in \u001b[0;36mNet.forward\u001b[0;34m(self, x)\u001b[0m\n\u001b[1;32m      6\u001b[0m \u001b[38;5;28;01mdef\u001b[39;00m \u001b[38;5;21mforward\u001b[39m(\u001b[38;5;28mself\u001b[39m, x):\n\u001b[0;32m----> 7\u001b[0m     x \u001b[38;5;241m=\u001b[39m \u001b[38;5;28;43mself\u001b[39;49m\u001b[38;5;241;43m.\u001b[39;49m\u001b[43mfc\u001b[49m\u001b[43m(\u001b[49m\u001b[43mx\u001b[49m\u001b[43m)\u001b[49m\n\u001b[1;32m      8\u001b[0m     x \u001b[38;5;241m=\u001b[39m torch\u001b[38;5;241m.\u001b[39mrelu(x)\n\u001b[1;32m      9\u001b[0m     \u001b[38;5;28;01mreturn\u001b[39;00m x\n",
      "File \u001b[0;32m~/apps/miniconda3/envs/advance-topics-ml/lib/python3.11/site-packages/torch/nn/modules/module.py:1518\u001b[0m, in \u001b[0;36mModule._wrapped_call_impl\u001b[0;34m(self, *args, **kwargs)\u001b[0m\n\u001b[1;32m   1516\u001b[0m     \u001b[38;5;28;01mreturn\u001b[39;00m \u001b[38;5;28mself\u001b[39m\u001b[38;5;241m.\u001b[39m_compiled_call_impl(\u001b[38;5;241m*\u001b[39margs, \u001b[38;5;241m*\u001b[39m\u001b[38;5;241m*\u001b[39mkwargs)  \u001b[38;5;66;03m# type: ignore[misc]\u001b[39;00m\n\u001b[1;32m   1517\u001b[0m \u001b[38;5;28;01melse\u001b[39;00m:\n\u001b[0;32m-> 1518\u001b[0m     \u001b[38;5;28;01mreturn\u001b[39;00m \u001b[38;5;28;43mself\u001b[39;49m\u001b[38;5;241;43m.\u001b[39;49m\u001b[43m_call_impl\u001b[49m\u001b[43m(\u001b[49m\u001b[38;5;241;43m*\u001b[39;49m\u001b[43margs\u001b[49m\u001b[43m,\u001b[49m\u001b[43m \u001b[49m\u001b[38;5;241;43m*\u001b[39;49m\u001b[38;5;241;43m*\u001b[39;49m\u001b[43mkwargs\u001b[49m\u001b[43m)\u001b[49m\n",
      "File \u001b[0;32m~/apps/miniconda3/envs/advance-topics-ml/lib/python3.11/site-packages/torch/nn/modules/module.py:1527\u001b[0m, in \u001b[0;36mModule._call_impl\u001b[0;34m(self, *args, **kwargs)\u001b[0m\n\u001b[1;32m   1522\u001b[0m \u001b[38;5;66;03m# If we don't have any hooks, we want to skip the rest of the logic in\u001b[39;00m\n\u001b[1;32m   1523\u001b[0m \u001b[38;5;66;03m# this function, and just call forward.\u001b[39;00m\n\u001b[1;32m   1524\u001b[0m \u001b[38;5;28;01mif\u001b[39;00m \u001b[38;5;129;01mnot\u001b[39;00m (\u001b[38;5;28mself\u001b[39m\u001b[38;5;241m.\u001b[39m_backward_hooks \u001b[38;5;129;01mor\u001b[39;00m \u001b[38;5;28mself\u001b[39m\u001b[38;5;241m.\u001b[39m_backward_pre_hooks \u001b[38;5;129;01mor\u001b[39;00m \u001b[38;5;28mself\u001b[39m\u001b[38;5;241m.\u001b[39m_forward_hooks \u001b[38;5;129;01mor\u001b[39;00m \u001b[38;5;28mself\u001b[39m\u001b[38;5;241m.\u001b[39m_forward_pre_hooks\n\u001b[1;32m   1525\u001b[0m         \u001b[38;5;129;01mor\u001b[39;00m _global_backward_pre_hooks \u001b[38;5;129;01mor\u001b[39;00m _global_backward_hooks\n\u001b[1;32m   1526\u001b[0m         \u001b[38;5;129;01mor\u001b[39;00m _global_forward_hooks \u001b[38;5;129;01mor\u001b[39;00m _global_forward_pre_hooks):\n\u001b[0;32m-> 1527\u001b[0m     \u001b[38;5;28;01mreturn\u001b[39;00m \u001b[43mforward_call\u001b[49m\u001b[43m(\u001b[49m\u001b[38;5;241;43m*\u001b[39;49m\u001b[43margs\u001b[49m\u001b[43m,\u001b[49m\u001b[43m \u001b[49m\u001b[38;5;241;43m*\u001b[39;49m\u001b[38;5;241;43m*\u001b[39;49m\u001b[43mkwargs\u001b[49m\u001b[43m)\u001b[49m\n\u001b[1;32m   1529\u001b[0m \u001b[38;5;28;01mtry\u001b[39;00m:\n\u001b[1;32m   1530\u001b[0m     result \u001b[38;5;241m=\u001b[39m \u001b[38;5;28;01mNone\u001b[39;00m\n",
      "File \u001b[0;32m~/apps/miniconda3/envs/advance-topics-ml/lib/python3.11/site-packages/torch/nn/modules/linear.py:114\u001b[0m, in \u001b[0;36mLinear.forward\u001b[0;34m(self, input)\u001b[0m\n\u001b[1;32m    113\u001b[0m \u001b[38;5;28;01mdef\u001b[39;00m \u001b[38;5;21mforward\u001b[39m(\u001b[38;5;28mself\u001b[39m, \u001b[38;5;28minput\u001b[39m: Tensor) \u001b[38;5;241m-\u001b[39m\u001b[38;5;241m>\u001b[39m Tensor:\n\u001b[0;32m--> 114\u001b[0m     \u001b[38;5;28;01mreturn\u001b[39;00m \u001b[43mF\u001b[49m\u001b[38;5;241;43m.\u001b[39;49m\u001b[43mlinear\u001b[49m\u001b[43m(\u001b[49m\u001b[38;5;28;43minput\u001b[39;49m\u001b[43m,\u001b[49m\u001b[43m \u001b[49m\u001b[38;5;28;43mself\u001b[39;49m\u001b[38;5;241;43m.\u001b[39;49m\u001b[43mweight\u001b[49m\u001b[43m,\u001b[49m\u001b[43m \u001b[49m\u001b[38;5;28;43mself\u001b[39;49m\u001b[38;5;241;43m.\u001b[39;49m\u001b[43mbias\u001b[49m\u001b[43m)\u001b[49m\n",
      "\u001b[0;31mRuntimeError\u001b[0m: mat1 and mat2 shapes cannot be multiplied (6120x784 and 120x10)"
     ]
    }
   ],
   "source": [
    "net = Net(784, 10)\n",
    "\n",
    "loss_value = loss_function()\n",
    "optimizer = torch.optim.Adam([\n",
    "    {'params': net.parameters()},\n",
    "    {'params': loss_value.parameters()}  # Assumi che loss_function sia l'istanza della tua classe loss_function\n",
    "], lr=0.001)\n",
    "\n",
    "num_epochs = 1000\n",
    "loss_history = []  # To store loss values\n",
    "\n",
    "for epoch in range(num_epochs):\n",
    "\n",
    "    train_images = train_images.view(train_images.shape[0], -1)\n",
    "    optimizer.zero_grad()\n",
    "\n",
    "    # Forward pass\n",
    "    prediction = net(train_images)\n",
    "    weights = net.fc.weight # i pesi del layer\n",
    "    loss = loss_value(prediction, train_labels, weights,train_images, use_reg_sort=False, use_reg_comm=False, use_symm_loss=False, use_symm_comm=False)\n",
    "\n",
    "    # Backward pass e ottimizzazione\n",
    "    loss.backward()\n",
    "    optimizer.step()\n",
    "\n",
    "    # Store the loss for plotting\n",
    "    loss_history.append(loss.item())\n",
    "\n",
    "    # Stampa la perdita per ogni epoca\n",
    "    print(f'Epoch [{epoch+1}/{num_epochs}], Loss: {loss.item()}')"
   ]
  },
  {
   "cell_type": "code",
   "execution_count": 7,
   "metadata": {},
   "outputs": [
    {
     "data": {
      "image/png": "[encoded data removed]",
      "text/plain": [
       "<Figure size 1000x200 with 5 Axes>"
      ]
     },
     "metadata": {},
     "output_type": "display_data"
    },
    {
     "name": "stdout",
     "output_type": "stream",
     "text": [
      "Train Accuracy: 65.94771241830065%\n"
     ]
    },
    {
     "data": {
      "image/png": "[encoded data removed]",
      "text/plain": [
       "<Figure size 1000x200 with 5 Axes>"
      ]
     },
     "metadata": {},
     "output_type": "display_data"
    },
    {
     "name": "stdout",
     "output_type": "stream",
     "text": [
      "Test Accuracy: 52.23214285714286%\n"
     ]
    }
   ],
   "source": [
    "# Inizializza il modello\n",
    "#net = Net(784, 10)\n",
    "#best_model_params = torch.load('./best_model_weights/symmetry_loss.pth')\n",
    "#net.load_state_dict(best_model_params)\n",
    "\n",
    "train_accuracy = calculate_accuracy(net, rotated_train_loader)\n",
    "print(f'Train Accuracy: {train_accuracy * 100}%')\n",
    "test_accuracy = calculate_accuracy(net, rotated_test_loader)\n",
    "print(f'Test Accuracy: {test_accuracy * 100}%')"
   ]
  },
  {
   "cell_type": "code",
   "execution_count": 8,
   "metadata": {},
   "outputs": [
    {
     "name": "stdout",
     "output_type": "stream",
     "text": [
      "Average Euclidean norm of the difference: 14.742980003356934\n",
      "Average Euclidean norm of the difference, control: 16.557146072387695\n"
     ]
    }
   ],
   "source": [
    "differences = []\n",
    "differences_control = []\n",
    "\n",
    "control_img = None\n",
    "\n",
    "for i, (images, label) in enumerate(test_loader):\n",
    "    # The order is the same due to the fact that both dataloaders are not shuffled!\n",
    "    (images_rot, label_rot) = rotated_test_loader.__iter__().__next__()\n",
    "\n",
    "    if i == 0:\n",
    "        control_img = torch.randn_like(images)\n",
    "\n",
    "    # Example of flattening the input\n",
    "    images = images.view(images.size(0), -1) # Flatten the images\n",
    "    images_rot = images_rot.view(images_rot.size(0), -1) # Flatten the images\n",
    "    control_img = control_img.view(control_img.size(0), -1) # Flatten the images\n",
    "\n",
    "    act = get_activations(images, net, \"fc\")\n",
    "    act_rot = get_activations(images_rot, net, \"fc\")\n",
    "    act_control = get_activations(control_img, net, \"fc\")\n",
    "\n",
    "    # When the non-augmented dataset is over, the rest of the batch is eventually filled with augmentations\n",
    "    # This check (and fix) avoids dimension mismatches\n",
    "    if act.shape[0] != act_rot.shape[0]:\n",
    "        act_rot = act_rot[: act.shape[0]]\n",
    "        act_control = act_control[: act.shape[0]]\n",
    "\n",
    "    differences.append(act - act_rot)\n",
    "    differences_control.append(act - act_control)\n",
    "\n",
    "    control_img = images_rot\n",
    " \n",
    "avg_norm = torch.linalg.norm(torch.cat(differences, dim=0), dim=1).mean()\n",
    "avg_norm_control = torch.linalg.norm(torch.cat(differences_control, dim=0), dim=1).mean()\n",
    "\n",
    "print(f\"Average Euclidean norm of the difference: {avg_norm.item()}\")\n",
    "print(f\"Average Euclidean norm of the difference, control: {avg_norm_control.item()}\")"
   ]
  },
  {
   "cell_type": "code",
   "execution_count": 9,
   "metadata": {},
   "outputs": [
    {
     "data": {
      "image/png": "[encoded data removed]",
      "text/plain": [
       "<Figure size 640x480 with 1 Axes>"
      ]
     },
     "metadata": {},
     "output_type": "display_data"
    },
    {
     "name": "stdout",
     "output_type": "stream",
     "text": [
      "torch.Size([10, 784])\n",
      "tensor([[ 0.0301, -0.0055,  0.0174,  ..., -0.0011, -0.0331,  0.0092],\n",
      "        [ 0.0048,  0.0102, -0.0279,  ...,  0.0172,  0.0256,  0.0260],\n",
      "        [-0.0133, -0.0232, -0.0170,  ..., -0.0190,  0.0122,  0.0315],\n",
      "        ...,\n",
      "        [ 0.0195, -0.0213, -0.0341,  ..., -0.0342, -0.0051, -0.0340],\n",
      "        [ 0.0183, -0.0151, -0.0316,  ...,  0.0347,  0.0344,  0.0191],\n",
      "        [ 0.0008, -0.0072,  0.0147,  ..., -0.0059, -0.0121, -0.0250]])\n"
     ]
    }
   ],
   "source": [
    "# Extracting weights\n",
    "weights = net.fc.weight.detach().cpu()\n",
    "\n",
    "# Normalization\n",
    "w_min, w_max = weights.min(), weights.max()\n",
    "plt_weights = (weights - w_min) / (w_max - w_min)\n",
    "\n",
    "\n",
    "# Reshape weights for a 5x5 grid, assuming each weight vector is of size 28*28\n",
    "# You need to ensure that there are at least 25 weight vectors\n",
    "plt_weights = plt_weights[:25].reshape(-1, 1, 28, 28)  # Taking first 25 weight vectors\n",
    "\n",
    "# Create a 5x5 grid\n",
    "grid = utils.make_grid(plt_weights, nrow=5, normalize=True, padding=1)\n",
    "plt.imshow(grid.permute(1, 2, 0))  # Permute the axes to display the image correctly\n",
    "plt.show()\n",
    "\n",
    "# Print weight information\n",
    "print(weights.shape)\n",
    "print(weights)\n"
   ]
  },
  {
   "cell_type": "code",
   "execution_count": null,
   "metadata": {},
   "outputs": [],
   "source": [
    "# PER Il PLOT\n",
    "\n",
    "best_loss = float('inf')\n",
    "best_params = None\n",
    "all_losses = []  # Per memorizzare tutte le curve di perdita\n",
    "num_epochs = 1000\n",
    "num_runs = 10\n",
    "\n",
    "for run in range(num_runs):\n",
    "    net = Net(784, 10)  # Re-inizializza la rete per ogni run\n",
    "    loss_value = loss_function()\n",
    "    optimizer = torch.optim.Adam([\n",
    "        {'params': net.parameters()},\n",
    "        {'params': loss_value.parameters()}\n",
    "    ], lr=0.001)\n",
    "\n",
    "    loss_history = []  # Per memorizzare i valori di perdita di questa esecuzione\n",
    "\n",
    "    for epoch in range(num_epochs):\n",
    "        train_images = train_images.view(train_images.shape[0], -1)\n",
    "        optimizer.zero_grad()\n",
    "\n",
    "        prediction = net(train_images)\n",
    "        weights = net.fc.weight\n",
    "        loss = loss_value(prediction, train_labels, weights, train_images,\n",
    "                          use_reg_sort=False, use_reg_comm=False,\n",
    "                          use_symm_loss=True, use_symm_comm=True)\n",
    "\n",
    "        loss.backward()\n",
    "        optimizer.step()\n",
    "\n",
    "        loss_history.append(loss.item())\n",
    "\n",
    "    all_losses.append(loss_history)  # Aggiungi la storia di perdita di questa esecuzione alla lista generale\n",
    "\n",
    "    # Verifica se questa esecuzione ha la migliore perdita media\n",
    "    avg_loss = np.mean(loss_history)\n",
    "    if avg_loss < best_loss:\n",
    "        best_loss = avg_loss\n",
    "        best_params = net.state_dict()  # Salva i parametri della rete\n",
    "\n",
    "# Calcolare la media delle perdite per ogni epoca\n",
    "mean_losses = np.mean(all_losses, axis=0)\n",
    "\n",
    "# Plotting tutte le curve di perdita e la media\n",
    "plt.figure(figsize=(10, 6))\n",
    "for i, loss_history in enumerate(all_losses):\n",
    "    plt.plot(range(1, num_epochs + 1), loss_history, label=f'Run {i+1}', alpha=0.5)\n",
    "plt.plot(range(1, num_epochs + 1), mean_losses, color='black', label='Mean Loss', linewidth=2)\n",
    "plt.xlabel('Epoch')\n",
    "plt.ylabel('Loss')\n",
    "plt.title('Symmetry LOSS Over 10 Runs')\n",
    "plt.legend()\n",
    "plt.grid(True)\n",
    "plt.ylim([0.5, 2.5])\n",
    "plt.show()\n",
    "\n",
    "# Salvare i migliori parametri della rete\n",
    "torch.save(best_params, 'best_model_params.pth')\n"
   ]
  }
 ],
 "metadata": {
  "kernelspec": {
   "display_name": "advance-topics-ml",
   "language": "python",
   "name": "python3"
  },
  "language_info": {
   "codemirror_mode": {
    "name": "ipython",
    "version": 3
   },
   "file_extension": ".py",
   "mimetype": "text/x-python",
   "name": "python",
   "nbconvert_exporter": "python",
   "pygments_lexer": "ipython3",
   "version": "3.11.7"
  }
 },
 "nbformat": 4,
 "nbformat_minor": 2
}
